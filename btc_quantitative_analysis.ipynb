{
 "cells": [
  {
   "cell_type": "markdown",
   "metadata": {},
   "source": [
    "# Bitcoin Quantitative Analysis\n",
    "- To perform technical quantitative analysis for a given financial asset.\n",
    "- To measure the risk return profile a given financial asset.\n",
    "- To identify the pros and cons of a given financial asset within a total portfolio allocation.\n",
    "\n",
    "Source(s): \n",
    "- Yahoo Finance"
   ]
  },
  {
   "cell_type": "code",
   "execution_count": null,
   "id": "3575a740",
   "metadata": {},
   "outputs": [],
   "source": [
    "# Set Up\n",
    "\n",
    "import math\n",
    "import os\n",
    "import random\n",
    "import re\n",
    "import sys\n",
    "\n",
    "import pandas as pd\n",
    "import numpy as np\n",
    "\n",
    "import matplotlib as mpl\n",
    "import matplotlib.pyplot as plt\n",
    "%matplotlib inline\n",
    "\n",
    "import datetime\n",
    "import requests\n",
    "from functools import reduce\n",
    "\n",
    "pd.set_option('display.float_format', lambda x: '%.4f' % x)"
   ]
  },
  {
   "cell_type": "markdown",
   "id": "1e8dd30e",
   "metadata": {},
   "source": [
    "## Helping functions"
   ]
  },
  {
   "cell_type": "code",
   "execution_count": null,
   "id": "47e48f9a",
   "metadata": {},
   "outputs": [],
   "source": [
    "def format_column_names(df):\n",
    "    \"\"\"The functions returns a data frame with its formatted columns\"\"\"\n",
    "    # Convert column names to lowercase\n",
    "    df.rename(columns=str.lower, inplace=True)\n",
    "    \n",
    "    # Replace spaces with underscores\n",
    "    df.rename(columns=lambda x: x.strip().replace(\" \", \"_\"), inplace=True)\n",
    "    \n",
    "    # Replace hyphens with underscores\n",
    "    df.rename(columns=lambda x: x.strip().replace(\"-\", \"_\"), inplace=True)\n",
    "    \n",
    "    return df\n"
   ]
  },
  {
   "cell_type": "code",
   "execution_count": null,
   "id": "881c11a5",
   "metadata": {},
   "outputs": [],
   "source": [
    "def analyze_dataset(dataset):\n",
    "    \"\"\"\n",
    "    Analyzes a given dataset and prints information about each column.\n",
    "\n",
    "    Args:\n",
    "        dataset (pd.DataFrame): The input dataset.\n",
    "\n",
    "    Returns:\n",
    "        None\n",
    "    \"\"\"\n",
    "    print(type(dataset))\n",
    "    # Get column names\n",
    "    columns = dataset.columns\n",
    "\n",
    "    # Print column information\n",
    "    for col in columns:\n",
    "        dtype = dataset[col].dtype\n",
    "        num_nan = dataset[col].isna().sum()\n",
    "        num_zeros = (dataset[col] == 0).sum()\n",
    "\n",
    "        print(f\"Column: {col}\")\n",
    "        print(f\"  Data Type: {dtype}\")\n",
    "        print(f\"  NaN Values: {num_nan}\")\n",
    "        print(f\"  Zero Values: {num_zeros}\\n\")"
   ]
  },
  {
   "cell_type": "code",
   "execution_count": null,
   "id": "7a369056",
   "metadata": {},
   "outputs": [],
   "source": [
    "def fetch_yf(tickers, start_date, end_date):\n",
    "    \"\"\"\n",
    "    Fetches historical closing price data using Yahoo Finance API.\n",
    "\n",
    "    Args:\n",
    "        tickers (list of str): List of stock tickers.\n",
    "        start_date (str): Start date in 'YYYY-MM-DD' format.\n",
    "        end_date (str): End date in 'YYYY-MM-DD' format.\n",
    "\n",
    "    Returns:\n",
    "        pandas.DataFrame: A DataFrame containing adjusted closing prices for the specified tickers.\n",
    "    \"\"\"\n",
    "    df = yf.download(tickers, start=start_date, end=end_date, auto_adjust=True)['Close']\n",
    "    df.reset_index(inplace=True)\n",
    "    df = format_column_names(df)\n",
    "    df['date'] = pd.to_datetime(df['date'])\n",
    "    return df\n"
   ]
  },
  {
   "cell_type": "code",
   "execution_count": null,
   "id": "a175b156",
   "metadata": {},
   "outputs": [],
   "source": [
    "def winsorize_series(s, ci=0.05):\n",
    "    \"\"\"\n",
    "    Winsorizes a pandas Series by replacing extreme values with the corresponding quantiles.\n",
    "\n",
    "    Parameters:\n",
    "        s (pd.Series): Input Series to be winsorized.\n",
    "        ci (float, optional): Confidence interval for quantiles. Defaults to 0.05.\n",
    "\n",
    "    Returns:\n",
    "        pd.Series: Winsorized Series.\n",
    "    \"\"\"\n",
    "    q = s.quantile([ci, 1 - ci])\n",
    "    if isinstance(q, pd.Series) and len(q) == 2:\n",
    "        s[s < q.iloc[0]] = q.iloc[0]\n",
    "        s[s > q.iloc[1]] = q.iloc[1]\n",
    "    return s\n"
   ]
  },
  {
   "cell_type": "code",
   "execution_count": null,
   "id": "eec5bd35",
   "metadata": {},
   "outputs": [],
   "source": [
    "def winsorize_returns(s, ci=0.01):\n",
    "    \"\"\"\n",
    "    Winsorizes the input returns series by replacing extreme values with the corresponding quantiles.\n",
    "\n",
    "    Parameters:\n",
    "        s (pd.Series): Input returns series.\n",
    "        ci (float, optional): Winsorization level (default is 0.01).\n",
    "\n",
    "    Returns:\n",
    "        pd.DataFrame: Winsorized returns with the same columns and index as the input series.\n",
    "    \"\"\"\n",
    "    q_low = s.quantile(ci)\n",
    "    q_high = s.quantile(1 - ci)\n",
    "    win_return = np.where(s < q_low, q_low, np.where(s > q_high, q_high, s))\n",
    "    return pd.DataFrame(win_return, columns=s.columns, index=s.index)\n"
   ]
  },
  {
   "cell_type": "markdown",
   "id": "7b90ea05",
   "metadata": {},
   "source": [
    "## Project Functions"
   ]
  },
  {
   "cell_type": "code",
   "execution_count": null,
   "id": "533996af",
   "metadata": {},
   "outputs": [],
   "source": [
    "def relative_differences_daily(df, ema_fast, ema_slow, years=5):\n",
    "    \"\"\"\n",
    "    Calculates and plots the relative differences between the latest price and moving averages.\n",
    "\n",
    "    Args:\n",
    "        df (pd.DataFrame): Input dataset with given columns required for the calculation.\n",
    "        ema_fast (int): Span for calculating the fast exponential moving average (EMA).\n",
    "        ema_slow (int): Span for calculating the slow EMA.\n",
    "        years (int): Number of years of data to consider (for plotting).\n",
    "\n",
    "    Returns:\n",
    "        None (displays the statistics and plot)\n",
    "    \"\"\"\n",
    "    # set date as index \n",
    "    tmp = df.set_index('date')\n",
    "    tmp = tmp.dropna()\n",
    "\n",
    "    # Calculate faste and slow exponential moving average (EMA)\n",
    "    ema_fast = tmp.ewm(span=ema_fast, adjust=False).mean()\n",
    "    ema_slow = tmp.ewm(span=ema_slow, adjust=False).mean()\n",
    "\n",
    "    # Calculate relative differences to EMAs\n",
    "    diff_ema_fast = (tmp - ema_fast) / ema_fast * 100\n",
    "    diff_ema_slow = (tmp - ema_slow) / ema_slow * 100\n",
    "\n",
    "    # statistics\n",
    "    last_price = np.array(tmp)[-1].item()\n",
    "    last_diff_ema_fast_value = np.array(diff_ema_fast)[-1].item()\n",
    "    last_diff_ema_slow_value = np.array(diff_ema_slow)[-1].item()\n",
    "    last_ema_fast_value = np.array(ema_fast)[-1].item()\n",
    "    last_ema_slow_value = np.array(ema_slow)[-1].item()\n",
    "\n",
    "    # print statistics\n",
    "    print(f\"Last Close price: {last_price:.2f} is {last_diff_ema_fast_value:.2f}% relative to the fast ema and {last_diff_ema_slow_value:.2f}% relative to the slow ema\")\n",
    "    print(f\"Last EMA Fast value (average): {last_ema_fast_value:.2f}\")\n",
    "    print(f\"Last EMA Slow value (average): {last_ema_slow_value:.2f}\")\n",
    "\n",
    "    # Plot the relative differences\n",
    "    plt.figure(figsize=(10, 6))\n",
    "    plt.plot(diff_ema_fast[-365*years:], label='Relative Diff (EMA Fast)')\n",
    "    plt.plot(diff_ema_slow[-365*years:], label='Relative Diff (EMA Slow)')\n",
    "    plt.axhline(y=0, color='gray', linestyle='--', linewidth=1)\n",
    "    plt.xlabel('Date')\n",
    "    plt.ylabel('Relative Difference (%)')\n",
    "    plt.title('Relative Differences: Close vs. Moving Averages')\n",
    "    plt.legend()\n",
    "    plt.grid(False)\n",
    "    plt.show()"
   ]
  },
  {
   "cell_type": "code",
   "execution_count": null,
   "id": "39cc6cef",
   "metadata": {},
   "outputs": [],
   "source": [
    "def relative_differences_monthly(df, ema_fast, ema_slow):\n",
    "    \"\"\"\n",
    "    Plots the relative differences between the latest price and moving averages.\n",
    "\n",
    "    Args:\n",
    "        df (pd.DataFrame): Input dataset with 'Close' column.\n",
    "\n",
    "    Returns:\n",
    "        None (displays the plot)\n",
    "    \"\"\"\n",
    "    \n",
    "    #df.set_index('Date', inplace=True)\n",
    "    tmp = df.copy()\n",
    "    tmp_resampled = tmp.set_index('date').resample('M').last()\n",
    "\n",
    "    # Calculate fast and slow exponential moving average (EMA)\n",
    "    ema_fast = tmp_resampled.ewm(span=ema_fast, adjust=False).mean()\n",
    "    ema_slow = tmp_resampled.ewm(span=ema_slow, adjust=False).mean()\n",
    "\n",
    "    # Calculate relative differences\n",
    "    diff_ema_fast = (tmp_resampled - ema_fast) / ema_fast * 100\n",
    "    diff_ema_slow = (tmp_resampled - ema_slow) / ema_slow * 100\n",
    "\n",
    "    # statistics\n",
    "    last_price = np.array(tmp_resampled)[-1].item()\n",
    "    last_diff_ema_fast_value = np.array(diff_ema_fast)[-1].item()\n",
    "    last_diff_ema_slow_value = np.array(diff_ema_slow)[-1].item()\n",
    "    last_ema_fast_value = np.array(ema_fast)[-1].item()\n",
    "    last_ema_slow_value = np.array(ema_slow)[-1].item()\n",
    "\n",
    "    # print statistics\n",
    "    print(f\"Last Close price: {last_price:.2f} is {last_diff_ema_fast_value:.2f}% relative to the fast ema and {last_diff_ema_slow_value:.2f}% relative to the slow ema\")\n",
    "    print(f\"Last EMA Fast value (average): {last_ema_fast_value:.2f}\")\n",
    "    print(f\"Last EMA Slow value (average): {last_ema_slow_value:.2f}\")\n",
    "\n",
    "    # Plot the relative differences\n",
    "    plt.figure(figsize=(10, 6))\n",
    "    plt.plot(diff_ema_fast, label='Relative Diff (EMA fast)')\n",
    "    plt.plot(diff_ema_slow, label='Relative Diff (EMA slow)')\n",
    "    plt.axhline(y=0, color='gray', linestyle='--', linewidth=1)\n",
    "    plt.xlabel('Date')\n",
    "    plt.ylabel('Relative Difference (%)')\n",
    "    plt.title('Relative Differences: Close vs. Moving Averages')\n",
    "    plt.legend()\n",
    "    plt.grid(False)\n",
    "    plt.show()"
   ]
  },
  {
   "cell_type": "code",
   "execution_count": null,
   "id": "d5841155",
   "metadata": {},
   "outputs": [],
   "source": [
    "def plot_rolling_annualized_return(df, years, last_n_observations):\n",
    "    \n",
    "    # set date as index \n",
    "    tmp = df.set_index('date')\n",
    "\n",
    "    # Calculate the rolling annualized return for a 3-year window\n",
    "    tmp = tmp.dropna()\n",
    "    log_returns = np.log(tmp / tmp.shift(1))\n",
    "    rolling_annualized_return = log_returns.rolling(window=years * 365).mean() * 365 * 100\n",
    "\n",
    "    # winsorization --- if needed\n",
    "    #winsorized_returns = winsorize_returns(log_returns)\n",
    "    #rolling_annualized_return = winsorized_returns.rolling(window=years * 365).mean() * 365 * 100\n",
    "\n",
    "    # statistics\n",
    "    last_rolling_annualized_return = np.array(rolling_annualized_return)[-1].item()\n",
    "    \n",
    "    # print statistics\n",
    "    print(f\"Last rolling annualized return: {last_rolling_annualized_return:.2f}%\")\n",
    "\n",
    "    # Plot the rolling annualized return\n",
    "    plt.figure(figsize=(10, 6))\n",
    "    plt.plot(rolling_annualized_return.iloc[-last_n_observations*365:], label='Rolling 3y Avg Return')\n",
    "    plt.title(f'{years}-Year Rolling Annualized Return (Last {last_n_observations} years)')\n",
    "    plt.axhline(y=0, color='gray', linestyle='--', linewidth=1)\n",
    "    plt.xlabel('Date')\n",
    "    plt.ylabel('Return (%)')\n",
    "    plt.legend()\n",
    "    plt.grid(True)\n",
    "    plt.show()\n"
   ]
  },
  {
   "cell_type": "code",
   "execution_count": null,
   "id": "fd89e0b9",
   "metadata": {},
   "outputs": [],
   "source": [
    "def plot_rolling_annualized_volatility(df, years, last_n_observations):\n",
    "    # set date as index \n",
    "    tmp = df.set_index('date')\n",
    "\n",
    "    # Calculate the rolling annualized volatility for a 3-year window\n",
    "    tmp = tmp.dropna()\n",
    "    log_returns = np.log(tmp / tmp.shift(1))\n",
    "    #rolling_annualized_volatility = winsorize_series(log_returns).rolling(window=years * 365).std() * (365 ** 0.5) * 100\n",
    "\n",
    "    # winsorization\n",
    "    winsorized_returns = winsorize_returns(log_returns)\n",
    "    rolling_annualized_volatility = winsorized_returns.rolling(window=years * 365).std() * (365 ** 0.5) * 100\n",
    "    \n",
    "    # statistics\n",
    "    last_rolling_annualized_volatility = np.array(rolling_annualized_volatility)[-1].item()\n",
    "\n",
    "    # print statistics\n",
    "    print(f\"Last rolling annualized volatility: {last_rolling_annualized_volatility:.2f}%\")\n",
    "    \n",
    "    # Plot the rolling annualized return\n",
    "    plt.figure(figsize=(10, 6))\n",
    "    plt.plot(rolling_annualized_volatility.iloc[-last_n_observations*365:], label='3y Rolling Volatility')\n",
    "    plt.title(f'{years}-Year Rolling Annualized Volatility (Last {last_n_observations} years)')\n",
    "    plt.axhline(y=55, color='gray', linestyle='--', linewidth=1)\n",
    "    plt.title('x-Year Rolling Annualized Volatility')\n",
    "    plt.xlabel('Date')\n",
    "    plt.ylabel('Return')\n",
    "    plt.legend()\n",
    "    plt.grid(True)\n",
    "    plt.show()"
   ]
  },
  {
   "cell_type": "code",
   "execution_count": null,
   "id": "261a1b88",
   "metadata": {},
   "outputs": [],
   "source": [
    "def plot_rolling_annualized_sharpe(df, years, last_n_observations):\n",
    "    # set date as index \n",
    "    tmp = df.set_index('date')\n",
    "\n",
    "    # Calculate the rolling annualized sharpe ratio for a 3-year window\n",
    "    tmp = tmp.dropna()\n",
    "    log_returns = np.log(tmp / tmp.shift(1))\n",
    "    \n",
    "    # winsorization\n",
    "    winsorized_returns = winsorize_returns(log_returns)\n",
    "\n",
    "    rolling_annualized_sharpe = ((winsorized_returns.rolling(window=years * 365).mean() * 365) \n",
    "    / (winsorized_returns.rolling(window=years * 365).std() * (365 ** 0.5)))\n",
    "\n",
    "    # statistics\n",
    "    last_rolling_sharpe = np.array(rolling_annualized_sharpe)[-1].item()\n",
    "    \n",
    "    # print statistics\n",
    "    print(f\"Last rolling annualized sharpe: {last_rolling_sharpe:.2f}\")\n",
    "\n",
    "    # Plot the rolling annualized return\n",
    "    plt.figure(figsize=(10, 6))\n",
    "    plt.plot(rolling_annualized_sharpe.iloc[-last_n_observations*365:], label='3y Rolling Sharpe')\n",
    "    plt.title(f'{years}-Year Rolling Annualized Sharpe (Last {last_n_observations} years)')\n",
    "    plt.axhline(y=0, color='gray', linestyle='--', linewidth=1)\n",
    "    plt.title('x-Year Rolling Annualized Sharpe')\n",
    "    plt.xlabel('Date')\n",
    "    plt.ylabel('Sharpe')\n",
    "    plt.legend()\n",
    "    plt.grid(True)\n",
    "    plt.show()"
   ]
  },
  {
   "cell_type": "code",
   "execution_count": null,
   "id": "5ddafcc9",
   "metadata": {},
   "outputs": [],
   "source": [
    "def drawdown(df):\n",
    "    \"\"\"\n",
    "    Take a time series of the asset returns\n",
    "    Computes the returns and draws a plot of the drawdowns\n",
    "    \"\"\"\n",
    "    # set date as index \n",
    "    tmp = df.set_index('date')\n",
    "    tmp = tmp.dropna()\n",
    "    return_series = tmp.pct_change()\n",
    "    wealth_index = 1000 * (1 + return_series).cumprod()\n",
    "    previous_peaks = wealth_index.cummax()\n",
    "    drawdowns = ((wealth_index - previous_peaks) / previous_peaks) * 100\n",
    "\n",
    "    # Plot the drawdowns\n",
    "    plt.figure(figsize=(10, 6))\n",
    "    plt.plot(drawdowns, label=\"Drawdowns\", color=\"red\")\n",
    "    plt.xlabel(\"Date\")\n",
    "    plt.ylabel(\"Drawdown %\")\n",
    "    plt.title(\"Asset Drawdowns\")\n",
    "    plt.grid(True)\n",
    "    plt.legend()\n",
    "    plt.show()\n"
   ]
  },
  {
   "cell_type": "markdown",
   "id": "d67fbadc",
   "metadata": {},
   "source": [
    "## Data Fetching"
   ]
  },
  {
   "cell_type": "code",
   "execution_count": null,
   "id": "c3615616",
   "metadata": {},
   "outputs": [],
   "source": [
    "import yfinance as yf "
   ]
  },
  {
   "cell_type": "code",
   "execution_count": null,
   "id": "aa2215de",
   "metadata": {},
   "outputs": [],
   "source": [
    "# fetching parameters\n",
    "\n",
    "start_date = '2010-12-31'\n",
    "end_date = '2024-4-30'\n",
    "tickers = ['ACWI', 'IEF', 'BTC-USD']"
   ]
  },
  {
   "cell_type": "code",
   "execution_count": null,
   "id": "0ba13115",
   "metadata": {},
   "outputs": [],
   "source": [
    "# get the data\n",
    "\n",
    "data = fetch_yf(tickers, start_date, end_date)\n",
    "print(data.head(5))\n",
    "print(data.tail(5))"
   ]
  },
  {
   "cell_type": "code",
   "execution_count": null,
   "id": "9caa47ff",
   "metadata": {},
   "outputs": [],
   "source": [
    "print(analyze_dataset(data))"
   ]
  },
  {
   "cell_type": "markdown",
   "id": "7a30fec0",
   "metadata": {},
   "source": [
    "## Quantitative Analysis"
   ]
  },
  {
   "cell_type": "code",
   "execution_count": null,
   "id": "6b7dc316",
   "metadata": {},
   "outputs": [],
   "source": [
    "asset = 'btc_usd'\n",
    "df = data[['date', asset]]"
   ]
  },
  {
   "cell_type": "code",
   "execution_count": null,
   "id": "5af80714",
   "metadata": {},
   "outputs": [],
   "source": [
    "# daily term quantitative signal \n",
    "\n",
    "ema_st_d = 20\n",
    "ema_lt_d = 100\n",
    "\n",
    "relative_differences_daily(df, ema_st_d, ema_lt_d)"
   ]
  },
  {
   "cell_type": "code",
   "execution_count": null,
   "id": "ed0e1d76",
   "metadata": {},
   "outputs": [],
   "source": [
    "# monthly quantitative signal \n",
    "\n",
    "ema_st_m = 20\n",
    "ema_lt_m = 100\n",
    "\n",
    "relative_differences_monthly(df, ema_st_m, ema_lt_m)"
   ]
  },
  {
   "cell_type": "code",
   "execution_count": null,
   "id": "9bbec790",
   "metadata": {},
   "outputs": [],
   "source": [
    "# parameters for risk and return statistics\n",
    "\n",
    "rolling_period = 3\n",
    "observed_periods = 6"
   ]
  },
  {
   "cell_type": "code",
   "execution_count": null,
   "id": "bf269407",
   "metadata": {},
   "outputs": [],
   "source": [
    "# rolling annualized return\n",
    "\n",
    "plot_rolling_annualized_return(df, rolling_period, observed_periods)"
   ]
  },
  {
   "cell_type": "code",
   "execution_count": null,
   "id": "0d1a5a38",
   "metadata": {},
   "outputs": [],
   "source": [
    "# rolling annualized volatility\n",
    "\n",
    "plot_rolling_annualized_volatility(df, rolling_period, observed_periods)"
   ]
  },
  {
   "cell_type": "code",
   "execution_count": null,
   "id": "74c30dc9",
   "metadata": {},
   "outputs": [],
   "source": [
    "# rolling sharpe ratio\n",
    "\n",
    "plot_rolling_annualized_sharpe(df, rolling_period, observed_periods)"
   ]
  },
  {
   "cell_type": "code",
   "execution_count": null,
   "id": "ef1a2759",
   "metadata": {},
   "outputs": [],
   "source": [
    "# maximun drawdown\n",
    "\n",
    "drawdown(df)\n"
   ]
  },
  {
   "cell_type": "markdown",
   "id": "3c3a1f3f",
   "metadata": {},
   "source": [
    "## Asset Analysis Within a Total Portfolio"
   ]
  },
  {
   "cell_type": "code",
   "execution_count": null,
   "id": "e7b56abc",
   "metadata": {},
   "outputs": [],
   "source": [
    "# set date as index \n",
    "tmp = data[['date', 'acwi', 'ief', asset]].copy()\n",
    "tmp = tmp.set_index('date')\n",
    "\n",
    "# Calculate log returns for all columns\n",
    "tmp = tmp.dropna()\n",
    "tmp = np.log(tmp / tmp.shift(1))\n",
    "\n",
    "# calculate global portfolio returns\n",
    "weight_stocks = 0.6\n",
    "tmp['global_port'] = weight_stocks * tmp['acwi'] + (1-weight_stocks) * tmp['ief']\n",
    "    \n",
    "# Calculate correlation winsorizing returns\n",
    "correlation = winsorize_series(tmp['global_port']).rolling(252).corr(winsorize_series(tmp[asset]))\n",
    "\n",
    "# statistics\n",
    "last_rolling_correlation = np.array(correlation)[-1].item()\n",
    "    \n",
    "# print statistics\n",
    "print(f\"Last rolling correlation: {last_rolling_correlation:.2f}\")\n",
    "\n",
    "# Plot the correlation\n",
    "plt.figure(figsize=(10, 6))\n",
    "plt.plot(correlation, linestyle='-', color='b')\n",
    "plt.show()\n"
   ]
  },
  {
   "cell_type": "markdown",
   "metadata": {},
   "source": [
    "## Key Findings\n",
    "- Bitcoin its becoming more of a traditional asset class showing declining returns and declining volatility relative to its history. \n",
    "- Bitcoin risk/return profile measured by sharpe ratio its approaching those of traditional asset classes.\n",
    "- Bitcoin's correlation with a 60/40 portfolio is low offering diversification benefits, but in times of rising market volatility its diversification benefits may be less obvious."
   ]
  },
  {
   "cell_type": "code",
   "execution_count": null,
   "id": "6c8740eb",
   "metadata": {},
   "outputs": [],
   "source": [
    "#%reset -f"
   ]
  },
  {
   "cell_type": "markdown",
   "metadata": {},
   "source": []
  }
 ],
 "metadata": {
  "kernelspec": {
   "display_name": "base",
   "language": "python",
   "name": "python3"
  },
  "language_info": {
   "codemirror_mode": {
    "name": "ipython",
    "version": 3
   },
   "file_extension": ".py",
   "mimetype": "text/x-python",
   "name": "python",
   "nbconvert_exporter": "python",
   "pygments_lexer": "ipython3",
   "version": "3.10.14"
  },
  "orig_nbformat": 4
 },
 "nbformat": 4,
 "nbformat_minor": 5
}
